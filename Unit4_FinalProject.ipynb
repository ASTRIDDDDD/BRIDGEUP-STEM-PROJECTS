{
  "nbformat": 4,
  "nbformat_minor": 0,
  "metadata": {
    "kernelspec": {
      "display_name": "Python 3",
      "language": "python",
      "name": "python3"
    },
    "language_info": {
      "codemirror_mode": {
        "name": "ipython",
        "version": 3
      },
      "file_extension": ".py",
      "mimetype": "text/x-python",
      "name": "python",
      "nbconvert_exporter": "python",
      "pygments_lexer": "ipython3",
      "version": "3.8.3"
    },
    "colab": {
      "name": "Unit4_FinalProject.ipynb",
      "provenance": [],
      "collapsed_sections": []
    }
  },
  "cells": [
    {
      "cell_type": "markdown",
      "metadata": {
        "id": "D6_sB-CJszaD"
      },
      "source": [
        "# Unit 4 Final Projects: Calculating evolutionary distance\n",
        "\n",
        "In this notebook you will compare the sequence of a particular gene from 3 different species to find out which two are most closely related. \n",
        "\n",
        "You will need to do the following:\n",
        "1. Open and read in your files\n",
        "2. Decide which sequences to compare (DNA, RNA, or protein), (you may have to look at all of them)\n",
        "3. Write code that prints out the percent similarity of each pair of sequences\n",
        "\n",
        "Note: Percent similarity can be taken by the following formula: `similarites * 100 / length of the shortest sequence`\n",
        " "
      ]
    },
    {
      "cell_type": "code",
      "metadata": {
        "colab": {
          "base_uri": "https://localhost:8080/",
          "height": 171
        },
        "id": "w3JZQE2FszaK",
        "outputId": "809ce51c-85ca-457d-93c0-be8ef0486912"
      },
      "source": [
        "open(\"/content/drive/MyDrive/Colab Notebooks/3a_CYTB_DNA.txt\").read()"
      ],
      "execution_count": null,
      "outputs": [
        {
          "output_type": "execute_result",
          "data": {
            "application/vnd.google.colaboratory.intrinsic+json": {
              "type": "string"
            },
            "text/plain": [
              "'ATGACAAACATCCGAAAATCCCACCCGCTAATTAAAATCATCAATCATTCTTTCATCGACCTACCAGCCCCCTCAAACATCTCATCATGATGAAACTTTGGCTCCCTCCTAGGAATTTGCCTAATCCTCCAAATCCTAACAGGCCTATTCCTAGCTATACACTACACATCAGACACAACAACTGCCTTCTCATCCGTCACCCACATCTGCCGAGACGTTAACTACGGATGAATCATTCGCTATCTCCATGCCAACGGAGCATCCATATTTTTCATCTGCCTCTTCATCCACGTAGGACGTGGCCTCTACTATGGCTCTTACACATTCCTAGAAACATGAAACATTGGAATTATCCTACTTCTCACAGTAATAGCCACAGCATTCATAGGCTACGTCCTACCATGAGGCCAAATATCCTTCTGAGGAGCAACAGTTATTACAAATCTCCTGTCAGCAATTCCCTACATCGGCACTACCCTCGTCGAGTGAATCTGAGGCGGATTCTCGGTAGACAAAGCCACCCTCACCCGATTTTTTGCCTTCCACTTCATCCTACCATTTATCATCACAGCCCTGGTAATCGTCCATTTACTATTCCTCCACGAAACAGGATCCAACAACCCCTCAGGAATTCCATCTGACATAGACAAAATCCCATTTCACCCATACTACACAATTAAAGATATCCTAGGACTCCTCCTCCTAATCCTACTCCTACTGACCCTAGTATTATTCTCTCCTGACCTCCTAGGAGACCCGGACAACTATACCCCAGCCAACCCTCTCAGCACTCCCCCTCATATTAAGCCAGAATGATATTTCCTATTTGCCTACGCCATCCTACGCTCTATTCCCAACAAACTAGGCGGCGTATTAGCCCTTATCCTTTCCATCTTAATCTTAGCACTCATCCCTACTCTACATACATCAAAACAACGAAGCATAATATTCCGACCTCTCAGTCAATGCGTGTTTTGACTCTTAGTAGCAGACTTACTAACACTAACATGAATCGGCGGCCAACCAGTGGAACACCCATACATAATTATCGGCCAACTGGCTTCAATCCTCTACTTCTCCCTAATTCTCATCTTCATACCACTCGCAAGCACCATTGAAAACAACCTTTTAAAATGAAGA'"
            ]
          },
          "metadata": {
            "tags": []
          },
          "execution_count": 2
        }
      ]
    },
    {
      "cell_type": "code",
      "metadata": {
        "colab": {
          "base_uri": "https://localhost:8080/"
        },
        "id": "zb4azI8ds_1o",
        "outputId": "20fce82d-c968-4ef9-a49e-ad9ac5b4eaac"
      },
      "source": [
        "from google.colab import drive\n",
        "drive.mount('/content/drive')"
      ],
      "execution_count": null,
      "outputs": [
        {
          "output_type": "stream",
          "text": [
            "Mounted at /content/drive\n"
          ],
          "name": "stdout"
        }
      ]
    },
    {
      "cell_type": "code",
      "metadata": {
        "collapsed": true,
        "colab": {
          "base_uri": "https://localhost:8080/",
          "height": 171
        },
        "id": "eGDyY0g6szaL",
        "outputId": "0a114322-c356-4e28-b321-7a0e5e532970"
      },
      "source": [
        "open(\"/content/drive/MyDrive/Colab Notebooks/3b_CYTB_DNA.txt\").read()"
      ],
      "execution_count": null,
      "outputs": [
        {
          "output_type": "execute_result",
          "data": {
            "application/vnd.google.colaboratory.intrinsic+json": {
              "type": "string"
            },
            "text/plain": [
              "'ATGACTAACATCCGTAAATCCCACCCACTAATCAAAATTATCAATCACTCATTCATCGACCTACCCACCCCATCAAACATTTCAGCCTGATGAAATTTTGGCTCTCTACTAGGAATCTGCCTAATCCTACAAATCCTAACCGGACTATTTCTTGCTATACATTATACACCAGACACAACAACTGCCTTCTCATCCGTTGCCCACATCTGTCGAGAGGTAAACTACGGCTGAATTATCCGCTACCTACATGCAAACGGAGCATCCATATTTTTTATCTGCCTATTCATCCACATAGGACGCGGCCTCTATTACGGATCCTACACCTTCCTAAAAACCTGAAACATCGGAGTTATTCTACTACTCACAGTAATAGCCACAGCATTCATAGGCTATGTCCTACCATGAGGCCAAATATCCTTTTGAGGAGCAACAGTCATTACAAACCTACTCTCAGCTATCCCGTATATCGGCACAACTCTCGTAGAATGAATCTGAGGAGGGTTCTCCGTCGACAAAGCCACACTTACACGATTCTTCGCTTTCCACTTTATTCTCCCCTTTATCATCTCAGCCCTAGCAATCACCCACCTATTATTCCTACACGAAACAGGATCCAACAACCCATCAGGAATCCCATCCAATATAGACAAAATTCCATTCCACCCATACTACACAATCAAAGATATCCTAGGAATCCTACTCCTAATCCTAACACTACTCACCCTAGTCCTATTCTCACCCCACCATCTAGGAGACCCTGACAACTACACCCCCGCCACCCCTCTCAATACCCCTCCACATATCAAACCAGAGTGATATTTCTTATTTGCCTATGCAATCCTACGATCCGTCCCTAACAAACTAGGCGGAGTACTAGCCCTAGCACTTTCCATCCTAATCCTAGCTCTTATCCCCATTCTCCACACATCCAAACAACGAAGCATAATATTCCGACCCCTAAGCCAATGTATGTTCTGACTACTAGTAGCCGACTTACTCACACTTACATGAATCGGAGGACAACCAGTCGAGCACCCATTCATCATTATTGGCCAACTAGCATCAATCCTATATTTCTCCCTAATCCTAGTACTTATACCCCTTGCAGGCATTATCGAAAACAACCTTCTGAAATGAAGA'"
            ]
          },
          "metadata": {
            "tags": []
          },
          "execution_count": 3
        }
      ]
    },
    {
      "cell_type": "code",
      "metadata": {
        "collapsed": true,
        "colab": {
          "base_uri": "https://localhost:8080/",
          "height": 171
        },
        "id": "mQiL25ihszaL",
        "outputId": "9dceac1c-de55-4c1f-bda6-c590f4314c5e"
      },
      "source": [
        "open(\"/content/drive/MyDrive/Colab Notebooks/3c_CYTB_DNA.txt\").read()"
      ],
      "execution_count": null,
      "outputs": [
        {
          "output_type": "execute_result",
          "data": {
            "application/vnd.google.colaboratory.intrinsic+json": {
              "type": "string"
            },
            "text/plain": [
              "'ATGACCGACATTCGAAAATCTCACCCCTTACTTAAAATCATCAATAAATCCTTCATTGATCTACCTACCCCATCCAACATATCAACATGATGAAATTTCGGCTCACTACTAGGAGCATGCCTAATTACACAAATCCTAACAGGATTATTCCTAGCCATACATTATACACCCGACACAATAACTGCATTTTCATCTATATCCCATATTTGCCGAGATGTAAACTACGGCTGAATTATTCGACAACTACACTCAAACGGAGCATCCATTTTCTTCCTCTGCCTATACACACACATTGGACGAAACATCTACTATGGGTCCTACCTATACTCGGAAACTTGAAATACCGGCATTATATTACTACTAATCACCATAGCCACCGCCTTCATAGGATATGTCCTTCCGTGAGGACAAATATCATTCTGAGGGGCAACCGTAATCACTAACCTTCTCTCAGCAATCCCTTATATCGGCACAAACCTAGTAGAATGAATCTGAGGAGGCTTTTCAGTAGACAAAGCAACCTTAAATCGATTTTTCGCCCTCCATTTCATTCTTCCATTTACTATAATTGCACTAGCAGGAGTACACCTAACCTTTCTTCACGAAACAGGCTCAAACAATCCACTGGGCCTCACTTCAGACTCAGACAAAATCCCCTTTCACCCATACTATACCATTAAGGACTTCCTAGGATTACTTATCCTAATTTTACTTCTTCTACTCCTAGCCCTACTATCTCCTGACCATCTAGGAGACCCTGACAACTACACCCTGGCCAACCCCTTAAATAACCCCCCTCATATCAAGCCAGAGTGATATTTTCTCTTTGCTTACGCCATCCTACGATCTGTACCAAACAAACTAGGAGGCGTCCTAGCCCTACTCCTATCAATTCTAATCCTAGGATTAATACCACTTCTCCATACATCCAAGCACCGAAGCATAATACTCCGACCTCTTAGCCTATGTGCCTATTGCTGAACTCTAACAATAGATTTACTAACACTTACATGAATTGGCAGCCAACCAGTAGAATATCCTTACATCATTATTGGTCAAATAGCCTCAATTCTATATTTCTCCATTATCCTAGCCTTCCTGCCAATTGCAGGAGTAATCGAAAACTACCTCATTAAGTAA'"
            ]
          },
          "metadata": {
            "tags": []
          },
          "execution_count": 4
        }
      ]
    },
    {
      "cell_type": "code",
      "metadata": {
        "collapsed": true,
        "id": "Eb_wQxI6szaM"
      },
      "source": [
        "for c, i in enumerate(proteinA):\n",
        "  #Compare each sequence using an if statement\n",
        "  if proteinB[c] != i: #we found a difference!\n",
        "    numDifferences += 1"
      ],
      "execution_count": null,
      "outputs": []
    },
    {
      "cell_type": "markdown",
      "metadata": {
        "id": "L1tH6KRjszaM"
      },
      "source": [
        "## Bonus Challenge\n",
        "\n",
        "Visualize your results! Choose a graph type that you think will communicate your conclusions effectively and create it using matplotlib:"
      ]
    },
    {
      "cell_type": "code",
      "metadata": {
        "id": "oKE2GF9UszaN"
      },
      "source": [
        ""
      ],
      "execution_count": null,
      "outputs": []
    },
    {
      "cell_type": "markdown",
      "metadata": {
        "id": "q46vxWXYszaO"
      },
      "source": [
        "## Bonus Challenge 2\n",
        "If you finish your project and want to try a challenge, come up with a hypothesis about which of the following species are most closely related to humans (carp, chicken, chimp, dog, eel, elephant, frog, gorilla, macaque monkey, mouse, orangutan, pig). Write out a ranked list with the species you think is most related to humans at the top.\n",
        "\n",
        "Then calculate the percent difference between the hemoglobin amino acid sequences of humans and each species to find out how close you came to the right ranking!"
      ]
    },
    {
      "cell_type": "code",
      "metadata": {
        "collapsed": true,
        "id": "8m_6JPxOszaP"
      },
      "source": [
        ""
      ],
      "execution_count": null,
      "outputs": []
    }
  ]
}